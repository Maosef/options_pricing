{
 "cells": [
  {
   "cell_type": "markdown",
   "metadata": {},
   "source": [
    "Collect stock and option data, price with BSM, compare accuracy"
   ]
  },
  {
   "cell_type": "code",
   "execution_count": 1,
   "metadata": {},
   "outputs": [],
   "source": [
    "# !pip install yfinance\n",
    "# !pip install seaborn\n",
    "\n",
    "import pandas as pd\n",
    "\n",
    "from math import sqrt\n",
    "import numpy as np\n",
    "from scipy.stats import norm\n",
    "\n",
    "import seaborn as sns"
   ]
  },
  {
   "cell_type": "code",
   "execution_count": 2,
   "metadata": {},
   "outputs": [
    {
     "name": "stdout",
     "output_type": "stream",
     "text": [
      "1607040000\n"
     ]
    }
   ],
   "source": [
    "from datetime import datetime, timezone, timedelta\n",
    "\n",
    "# exp of Nov 16 2020\n",
    "\n",
    "timestamp = 1605484800 # exp of Nov 16 2020\n",
    "# timestamp = 1605657600 # exp of Nov 18 2020\n",
    "\n",
    "datetime.fromtimestamp(timestamp) # need to add 5 hours (same as UTC)\n",
    "\n",
    "# create a timestamp for scraping from a given date and time (UTC)\n",
    "# expiration_datetime = datetime(2020, 11, 16, 0, 0, tzinfo=timezone.utc)\\\n",
    "expiration_datetime = datetime(2020, 12, 4, 0, 0, tzinfo=timezone.utc)\n",
    "# expiration_datetime = datetime(2020, 12, 31, 0, 0, tzinfo=timezone.utc)\n",
    "\n",
    "expiration_timestamp = int(expiration_datetime.timestamp())\n",
    "print(expiration_timestamp)"
   ]
  },
  {
   "cell_type": "code",
   "execution_count": 3,
   "metadata": {},
   "outputs": [
    {
     "name": "stdout",
     "output_type": "stream",
     "text": [
      "2020-12-04\n"
     ]
    }
   ],
   "source": [
    "print(expiration_datetime.date())"
   ]
  },
  {
   "cell_type": "markdown",
   "metadata": {},
   "source": [
    "Download historical stock price data for SPY. I get a past year's worth from (https://finance.yahoo.com/quote/SPY/history?p=SPY)"
   ]
  },
  {
   "cell_type": "code",
   "execution_count": 4,
   "metadata": {},
   "outputs": [
    {
     "name": "stdout",
     "output_type": "stream",
     "text": [
      "           Date        Open        High         Low       Close   Adj Close  \\\n",
      "0    2019-11-14   69.222000   70.767998   68.582001   69.870003   69.870003   \n",
      "1    2019-11-15   70.127998   70.559998   69.671997   70.433998   70.433998   \n",
      "2    2019-11-18   70.584000   70.629997   69.220001   69.998001   69.998001   \n",
      "3    2019-11-19   70.349998   71.998001   69.559998   71.903999   71.903999   \n",
      "4    2019-11-20   72.000000   72.239998   69.914001   70.444000   70.444000   \n",
      "..          ...         ...         ...         ...         ...         ...   \n",
      "248  2020-11-09  439.500000  452.500000  421.000000  421.260010  421.260010   \n",
      "249  2020-11-10  420.089996  420.089996  396.029999  410.359985  410.359985   \n",
      "250  2020-11-11  416.450012  418.700012  410.579987  417.130005  417.130005   \n",
      "251  2020-11-12  415.049988  423.000000  409.519989  411.760010  411.760010   \n",
      "252  2020-11-13  410.850006  412.529999  401.660004  408.500000  408.500000   \n",
      "\n",
      "       Volume  close_day_before   returns  \n",
      "0    32324500               NaN       NaN  \n",
      "1    24045000         69.870003  0.008072  \n",
      "2    22002000         70.433998 -0.006190  \n",
      "3    38624000         69.998001  0.027229  \n",
      "4    33625500         71.903999 -0.020305  \n",
      "..        ...               ...       ...  \n",
      "248  34833000        429.950012 -0.020212  \n",
      "249  30284200        421.260010 -0.025875  \n",
      "250  17357700        410.359985  0.016498  \n",
      "251  19855100        417.130005 -0.012874  \n",
      "252  19771100        411.760010 -0.007917  \n",
      "\n",
      "[253 rows x 9 columns]\n",
      "          Contract Name         Last Trade Date  Strike  Last Price     Bid  \\\n",
      "0   TSLA201204C00020000  2020-11-16 12:10AM EST    20.0      411.95  427.00   \n",
      "1   TSLA201204C00250000   2020-11-06 3:10PM EST   250.0      160.40  198.85   \n",
      "2   TSLA201204C00260000   2020-11-16 2:07PM EST   260.0      149.06  187.35   \n",
      "3   TSLA201204C00270000   2020-11-17 9:36AM EST   270.0      183.35  177.00   \n",
      "4   TSLA201204C00280000   2020-11-16 3:25PM EST   280.0      175.65  169.20   \n",
      "..                  ...                     ...     ...         ...     ...   \n",
      "73  TSLA201204C00720000  2020-11-17 10:17AM EST   720.0        1.04    0.97   \n",
      "74  TSLA201204C00740000  2020-11-17 10:27AM EST   740.0        0.90    0.81   \n",
      "75  TSLA201204C00760000  2020-11-17 10:24AM EST   760.0        0.80    0.71   \n",
      "76  TSLA201204C00780000  2020-11-17 10:16AM EST   780.0        0.70    0.62   \n",
      "77  TSLA201204C00800000  2020-11-17 10:25AM EST   800.0        0.60    0.58   \n",
      "\n",
      "       Ask  Change    % Change Volume Open Interest Implied Volatility  \n",
      "0   431.75    0.00           -      -             -            858.79%  \n",
      "1   204.15    0.00           -      1             4            185.94%  \n",
      "2   192.10    0.00           -      1             1            158.06%  \n",
      "3   182.15   44.30     +31.86%      3            11            147.12%  \n",
      "4   173.85   46.55     +36.06%      1            17            155.75%  \n",
      "..     ...     ...         ...    ...           ...                ...  \n",
      "73    1.08    0.94    +940.00%     48            16            105.74%  \n",
      "74    0.94    0.57    +172.73%     52             8            108.06%  \n",
      "75    0.80    0.74  +1,233.33%     99            15            110.35%  \n",
      "76    0.77    0.66  +1,650.00%     13            37            113.48%  \n",
      "77    0.64    0.55  +1,100.00%    846           396            115.67%  \n",
      "\n",
      "[78 rows x 11 columns]\n"
     ]
    }
   ],
   "source": [
    "# download annual historical data for the stock\n",
    "\n",
    "ticker = 'TSLA'\n",
    "stock_price_path = \"~/documents/quant_finance/price_data/{}.csv\".format(ticker)\n",
    "df = pd.read_csv(stock_price_path)\n",
    "df = df.sort_values(by=\"Date\")\n",
    "df = df.dropna()\n",
    "\n",
    "# calculate returns\n",
    "df = df.assign(close_day_before=df['Adj Close'].shift(1))\n",
    "df['returns'] = ((df['Adj Close'] - df.close_day_before)/df.close_day_before)\n",
    "\n",
    "# get options data\n",
    "options_data_path = 'https://finance.yahoo.com/quote/{}/options?date={}&p={}'.format(ticker, expiration_timestamp, ticker)\n",
    "options_data = pd.read_html(options_data_path) # returns two dataframes, for calls and puts\n",
    "r = options_data[0]\n",
    "calls_df = options_data[1]\n",
    "\n",
    "print(df)\n",
    "print(r)"
   ]
  },
  {
   "cell_type": "code",
   "execution_count": 5,
   "metadata": {},
   "outputs": [],
   "source": [
    "# S is the spot price \n",
    "# K is the strike price \n",
    "# T is the fraction of days to strike date divided by 252 (stock market days)\n",
    "# r is the risk free rate\n",
    "# sigma is the annual volatility of the returns of the stock \n",
    "\n",
    "def black_scholes(S, K, T, r, sigma):\n",
    "    d1 = (np.log(S/K) + (r + sigma**2/2)*T)/(sigma * sqrt(T))\n",
    "    d2 = d1 - sigma * np.sqrt(T)\n",
    "    return S * norm.cdf(d1) - K*np.exp(-r*T) * norm.cdf(d2)\n",
    "\n",
    "# get the (num days to expiration) / (trading days in a year)\n",
    "def get_time_to_expiration(expiration_datetime_utc):\n",
    "    return (expiration_datetime_utc - datetime.now(timezone.utc)).days / 252\n"
   ]
  },
  {
   "cell_type": "code",
   "execution_count": null,
   "metadata": {},
   "outputs": [],
   "source": []
  },
  {
   "cell_type": "code",
   "execution_count": 7,
   "metadata": {},
   "outputs": [
    {
     "name": "stdout",
     "output_type": "stream",
     "text": [
      "cur_stock_price: 408.5, time to expiration: 0.06349206349206349, rfr: 0.0069, vol: 0.8736802392964274\n"
     ]
    }
   ],
   "source": [
    "# the rfr should vary with time, not be constant.\n",
    "\n",
    "cur_stock_price = df.iloc[-1]['Adj Close']\n",
    "time_to_expiration = get_time_to_expiration(expiration_datetime)\n",
    "risk_free_rate = 0.0069\n",
    "# Calculate the volatility as the annualized standard deviation of the stock returns\n",
    "sigma = np.sqrt(252) * df['returns'].std()\n",
    "\n",
    "print('cur_stock_price: {}, time to expiration: {}, rfr: {}, vol: {}'.format(cur_stock_price, time_to_expiration, risk_free_rate, sigma))\n",
    "list_estimates = []\n",
    "\n",
    "strike_start_idx, strike_end_idx = 0, r.shape[0]\n",
    "# strike_start_idx, strike_end_idx = 0, 21\n",
    "\n",
    "# run BSM for different strikes\n",
    "for x in range(strike_start_idx,strike_end_idx):\n",
    "    value_s = black_scholes(S = cur_stock_price, \n",
    "                            K = r['Strike'][x], \n",
    "                            T = time_to_expiration, \n",
    "                            r = risk_free_rate, \n",
    "                            sigma = sigma)\n",
    "    list_estimates.append(value_s)\n",
    "    \n",
    "# merge the real and computed dataframes to compare results\n",
    "df_list = pd.DataFrame(data=list_estimates, index=r.index[strike_start_idx:strike_end_idx])\n",
    "df_list['estimate'] = df_list[0]\n",
    "del df_list[0]\n",
    "df_estimate = r.merge(df_list, right_index = True, left_index = True)"
   ]
  },
  {
   "cell_type": "code",
   "execution_count": 8,
   "metadata": {},
   "outputs": [
    {
     "data": {
      "text/html": [
       "<div>\n",
       "<style scoped>\n",
       "    .dataframe tbody tr th:only-of-type {\n",
       "        vertical-align: middle;\n",
       "    }\n",
       "\n",
       "    .dataframe tbody tr th {\n",
       "        vertical-align: top;\n",
       "    }\n",
       "\n",
       "    .dataframe thead th {\n",
       "        text-align: right;\n",
       "    }\n",
       "</style>\n",
       "<table border=\"1\" class=\"dataframe\">\n",
       "  <thead>\n",
       "    <tr style=\"text-align: right;\">\n",
       "      <th></th>\n",
       "      <th>Contract Name</th>\n",
       "      <th>Last Trade Date</th>\n",
       "      <th>Strike</th>\n",
       "      <th>Last Price</th>\n",
       "      <th>Bid</th>\n",
       "      <th>Ask</th>\n",
       "      <th>Change</th>\n",
       "      <th>% Change</th>\n",
       "      <th>Volume</th>\n",
       "      <th>Open Interest</th>\n",
       "      <th>Implied Volatility</th>\n",
       "      <th>estimate</th>\n",
       "    </tr>\n",
       "  </thead>\n",
       "  <tbody>\n",
       "    <tr>\n",
       "      <th>0</th>\n",
       "      <td>TSLA201204C00020000</td>\n",
       "      <td>2020-11-16 12:10AM EST</td>\n",
       "      <td>20.0</td>\n",
       "      <td>411.95</td>\n",
       "      <td>427.00</td>\n",
       "      <td>431.75</td>\n",
       "      <td>0.00</td>\n",
       "      <td>-</td>\n",
       "      <td>-</td>\n",
       "      <td>-</td>\n",
       "      <td>858.79%</td>\n",
       "      <td>388.508760</td>\n",
       "    </tr>\n",
       "    <tr>\n",
       "      <th>1</th>\n",
       "      <td>TSLA201204C00250000</td>\n",
       "      <td>2020-11-06 3:10PM EST</td>\n",
       "      <td>250.0</td>\n",
       "      <td>160.40</td>\n",
       "      <td>198.85</td>\n",
       "      <td>204.15</td>\n",
       "      <td>0.00</td>\n",
       "      <td>-</td>\n",
       "      <td>1</td>\n",
       "      <td>4</td>\n",
       "      <td>185.94%</td>\n",
       "      <td>158.921244</td>\n",
       "    </tr>\n",
       "    <tr>\n",
       "      <th>2</th>\n",
       "      <td>TSLA201204C00260000</td>\n",
       "      <td>2020-11-16 2:07PM EST</td>\n",
       "      <td>260.0</td>\n",
       "      <td>149.06</td>\n",
       "      <td>187.35</td>\n",
       "      <td>192.10</td>\n",
       "      <td>0.00</td>\n",
       "      <td>-</td>\n",
       "      <td>1</td>\n",
       "      <td>1</td>\n",
       "      <td>158.06%</td>\n",
       "      <td>149.137290</td>\n",
       "    </tr>\n",
       "    <tr>\n",
       "      <th>3</th>\n",
       "      <td>TSLA201204C00270000</td>\n",
       "      <td>2020-11-17 9:36AM EST</td>\n",
       "      <td>270.0</td>\n",
       "      <td>183.35</td>\n",
       "      <td>177.00</td>\n",
       "      <td>182.15</td>\n",
       "      <td>44.30</td>\n",
       "      <td>+31.86%</td>\n",
       "      <td>3</td>\n",
       "      <td>11</td>\n",
       "      <td>147.12%</td>\n",
       "      <td>139.459009</td>\n",
       "    </tr>\n",
       "    <tr>\n",
       "      <th>4</th>\n",
       "      <td>TSLA201204C00280000</td>\n",
       "      <td>2020-11-16 3:25PM EST</td>\n",
       "      <td>280.0</td>\n",
       "      <td>175.65</td>\n",
       "      <td>169.20</td>\n",
       "      <td>173.85</td>\n",
       "      <td>46.55</td>\n",
       "      <td>+36.06%</td>\n",
       "      <td>1</td>\n",
       "      <td>17</td>\n",
       "      <td>155.75%</td>\n",
       "      <td>129.920454</td>\n",
       "    </tr>\n",
       "    <tr>\n",
       "      <th>...</th>\n",
       "      <td>...</td>\n",
       "      <td>...</td>\n",
       "      <td>...</td>\n",
       "      <td>...</td>\n",
       "      <td>...</td>\n",
       "      <td>...</td>\n",
       "      <td>...</td>\n",
       "      <td>...</td>\n",
       "      <td>...</td>\n",
       "      <td>...</td>\n",
       "      <td>...</td>\n",
       "      <td>...</td>\n",
       "    </tr>\n",
       "    <tr>\n",
       "      <th>73</th>\n",
       "      <td>TSLA201204C00720000</td>\n",
       "      <td>2020-11-17 10:17AM EST</td>\n",
       "      <td>720.0</td>\n",
       "      <td>1.04</td>\n",
       "      <td>0.97</td>\n",
       "      <td>1.08</td>\n",
       "      <td>0.94</td>\n",
       "      <td>+940.00%</td>\n",
       "      <td>48</td>\n",
       "      <td>16</td>\n",
       "      <td>105.74%</td>\n",
       "      <td>0.189718</td>\n",
       "    </tr>\n",
       "    <tr>\n",
       "      <th>74</th>\n",
       "      <td>TSLA201204C00740000</td>\n",
       "      <td>2020-11-17 10:27AM EST</td>\n",
       "      <td>740.0</td>\n",
       "      <td>0.90</td>\n",
       "      <td>0.81</td>\n",
       "      <td>0.94</td>\n",
       "      <td>0.57</td>\n",
       "      <td>+172.73%</td>\n",
       "      <td>52</td>\n",
       "      <td>8</td>\n",
       "      <td>108.06%</td>\n",
       "      <td>0.128917</td>\n",
       "    </tr>\n",
       "    <tr>\n",
       "      <th>75</th>\n",
       "      <td>TSLA201204C00760000</td>\n",
       "      <td>2020-11-17 10:24AM EST</td>\n",
       "      <td>760.0</td>\n",
       "      <td>0.80</td>\n",
       "      <td>0.71</td>\n",
       "      <td>0.80</td>\n",
       "      <td>0.74</td>\n",
       "      <td>+1,233.33%</td>\n",
       "      <td>99</td>\n",
       "      <td>15</td>\n",
       "      <td>110.35%</td>\n",
       "      <td>0.087378</td>\n",
       "    </tr>\n",
       "    <tr>\n",
       "      <th>76</th>\n",
       "      <td>TSLA201204C00780000</td>\n",
       "      <td>2020-11-17 10:16AM EST</td>\n",
       "      <td>780.0</td>\n",
       "      <td>0.70</td>\n",
       "      <td>0.62</td>\n",
       "      <td>0.77</td>\n",
       "      <td>0.66</td>\n",
       "      <td>+1,650.00%</td>\n",
       "      <td>13</td>\n",
       "      <td>37</td>\n",
       "      <td>113.48%</td>\n",
       "      <td>0.059094</td>\n",
       "    </tr>\n",
       "    <tr>\n",
       "      <th>77</th>\n",
       "      <td>TSLA201204C00800000</td>\n",
       "      <td>2020-11-17 10:25AM EST</td>\n",
       "      <td>800.0</td>\n",
       "      <td>0.60</td>\n",
       "      <td>0.58</td>\n",
       "      <td>0.64</td>\n",
       "      <td>0.55</td>\n",
       "      <td>+1,100.00%</td>\n",
       "      <td>846</td>\n",
       "      <td>396</td>\n",
       "      <td>115.67%</td>\n",
       "      <td>0.039891</td>\n",
       "    </tr>\n",
       "  </tbody>\n",
       "</table>\n",
       "<p>78 rows × 12 columns</p>\n",
       "</div>"
      ],
      "text/plain": [
       "          Contract Name         Last Trade Date  Strike  Last Price     Bid  \\\n",
       "0   TSLA201204C00020000  2020-11-16 12:10AM EST    20.0      411.95  427.00   \n",
       "1   TSLA201204C00250000   2020-11-06 3:10PM EST   250.0      160.40  198.85   \n",
       "2   TSLA201204C00260000   2020-11-16 2:07PM EST   260.0      149.06  187.35   \n",
       "3   TSLA201204C00270000   2020-11-17 9:36AM EST   270.0      183.35  177.00   \n",
       "4   TSLA201204C00280000   2020-11-16 3:25PM EST   280.0      175.65  169.20   \n",
       "..                  ...                     ...     ...         ...     ...   \n",
       "73  TSLA201204C00720000  2020-11-17 10:17AM EST   720.0        1.04    0.97   \n",
       "74  TSLA201204C00740000  2020-11-17 10:27AM EST   740.0        0.90    0.81   \n",
       "75  TSLA201204C00760000  2020-11-17 10:24AM EST   760.0        0.80    0.71   \n",
       "76  TSLA201204C00780000  2020-11-17 10:16AM EST   780.0        0.70    0.62   \n",
       "77  TSLA201204C00800000  2020-11-17 10:25AM EST   800.0        0.60    0.58   \n",
       "\n",
       "       Ask  Change    % Change Volume Open Interest Implied Volatility  \\\n",
       "0   431.75    0.00           -      -             -            858.79%   \n",
       "1   204.15    0.00           -      1             4            185.94%   \n",
       "2   192.10    0.00           -      1             1            158.06%   \n",
       "3   182.15   44.30     +31.86%      3            11            147.12%   \n",
       "4   173.85   46.55     +36.06%      1            17            155.75%   \n",
       "..     ...     ...         ...    ...           ...                ...   \n",
       "73    1.08    0.94    +940.00%     48            16            105.74%   \n",
       "74    0.94    0.57    +172.73%     52             8            108.06%   \n",
       "75    0.80    0.74  +1,233.33%     99            15            110.35%   \n",
       "76    0.77    0.66  +1,650.00%     13            37            113.48%   \n",
       "77    0.64    0.55  +1,100.00%    846           396            115.67%   \n",
       "\n",
       "      estimate  \n",
       "0   388.508760  \n",
       "1   158.921244  \n",
       "2   149.137290  \n",
       "3   139.459009  \n",
       "4   129.920454  \n",
       "..         ...  \n",
       "73    0.189718  \n",
       "74    0.128917  \n",
       "75    0.087378  \n",
       "76    0.059094  \n",
       "77    0.039891  \n",
       "\n",
       "[78 rows x 12 columns]"
      ]
     },
     "execution_count": 8,
     "metadata": {},
     "output_type": "execute_result"
    }
   ],
   "source": [
    "df_estimate"
   ]
  },
  {
   "cell_type": "code",
   "execution_count": 9,
   "metadata": {},
   "outputs": [
    {
     "data": {
      "text/plain": [
       "<AxesSubplot:title={'center':'Computed v Market prices for TSLA, Expiry 2020-12-04'}, xlabel='Strike'>"
      ]
     },
     "execution_count": 9,
     "metadata": {},
     "output_type": "execute_result"
    },
    {
     "data": {
      "image/png": "[encoded data removed]",
      "text/plain": [
       "<Figure size 432x288 with 1 Axes>"
      ]
     },
     "metadata": {
      "needs_background": "light"
     },
     "output_type": "display_data"
    }
   ],
   "source": [
    "# plot option prices across strikes\n",
    "\n",
    "df_estimate.plot(x='Strike',y=['Last Price','estimate'], title='Computed v Market prices for {}, Expiry {}'.format(ticker, expiration_datetime.date()))"
   ]
  },
  {
   "cell_type": "code",
   "execution_count": 10,
   "metadata": {},
   "outputs": [
    {
     "name": "stdout",
     "output_type": "stream",
     "text": [
      "count      78.000000\n",
      "mean       88.298194\n",
      "std       228.984568\n",
      "min       -18.477548\n",
      "25%         9.061692\n",
      "50%        33.057897\n",
      "75%        43.299833\n",
      "max      1404.091158\n",
      "Name: estimate_error, dtype: float64\n"
     ]
    },
    {
     "name": "stderr",
     "output_type": "stream",
     "text": [
      "/home/amao/miniconda3/envs/datasci/lib/python3.8/site-packages/seaborn/distributions.py:2551: FutureWarning: `distplot` is a deprecated function and will be removed in a future version. Please adapt your code to use either `displot` (a figure-level function with similar flexibility) or `histplot` (an axes-level function for histograms).\n",
      "  warnings.warn(msg, FutureWarning)\n"
     ]
    },
    {
     "data": {
      "image/png": "[encoded data removed]",
      "text/plain": [
       "<Figure size 432x288 with 1 Axes>"
      ]
     },
     "metadata": {
      "needs_background": "light"
     },
     "output_type": "display_data"
    }
   ],
   "source": [
    "df_estimate['estimate_error'] = ((df_estimate['Last Price'] - df_estimate['estimate'])/df_estimate['estimate'])*100\n",
    "ax = sns.distplot(df_estimate['estimate_error'])\n",
    "print(df_estimate['estimate_error'].describe())\n",
    "\n",
    "# across strikes, the median error is 34%, but there is a huge spread and outliers, \n",
    "# which mainly seem to be due to the higher strikes being very close to 0."
   ]
  },
  {
   "cell_type": "code",
   "execution_count": null,
   "metadata": {},
   "outputs": [],
   "source": []
  },
  {
   "cell_type": "code",
   "execution_count": 11,
   "metadata": {},
   "outputs": [
    {
     "data": {
      "text/html": [
       "<div>\n",
       "<style scoped>\n",
       "    .dataframe tbody tr th:only-of-type {\n",
       "        vertical-align: middle;\n",
       "    }\n",
       "\n",
       "    .dataframe tbody tr th {\n",
       "        vertical-align: top;\n",
       "    }\n",
       "\n",
       "    .dataframe thead th {\n",
       "        text-align: right;\n",
       "    }\n",
       "</style>\n",
       "<table border=\"1\" class=\"dataframe\">\n",
       "  <thead>\n",
       "    <tr style=\"text-align: right;\">\n",
       "      <th></th>\n",
       "      <th>Contract Name</th>\n",
       "      <th>Last Trade Date</th>\n",
       "      <th>Strike</th>\n",
       "      <th>Last Price</th>\n",
       "      <th>Bid</th>\n",
       "      <th>Ask</th>\n",
       "      <th>Change</th>\n",
       "      <th>% Change</th>\n",
       "      <th>Volume</th>\n",
       "      <th>Open Interest</th>\n",
       "      <th>Implied Volatility</th>\n",
       "      <th>estimate</th>\n",
       "      <th>estimate_error</th>\n",
       "    </tr>\n",
       "  </thead>\n",
       "  <tbody>\n",
       "    <tr>\n",
       "      <th>0</th>\n",
       "      <td>TSLA201204C00020000</td>\n",
       "      <td>2020-11-16 12:10AM EST</td>\n",
       "      <td>20.0</td>\n",
       "      <td>411.95</td>\n",
       "      <td>427.00</td>\n",
       "      <td>431.75</td>\n",
       "      <td>0.00</td>\n",
       "      <td>-</td>\n",
       "      <td>-</td>\n",
       "      <td>-</td>\n",
       "      <td>858.79%</td>\n",
       "      <td>388.508760</td>\n",
       "      <td>6.033645</td>\n",
       "    </tr>\n",
       "    <tr>\n",
       "      <th>3</th>\n",
       "      <td>TSLA201204C00270000</td>\n",
       "      <td>2020-11-17 9:36AM EST</td>\n",
       "      <td>270.0</td>\n",
       "      <td>183.35</td>\n",
       "      <td>177.00</td>\n",
       "      <td>182.15</td>\n",
       "      <td>44.30</td>\n",
       "      <td>+31.86%</td>\n",
       "      <td>3</td>\n",
       "      <td>11</td>\n",
       "      <td>147.12%</td>\n",
       "      <td>139.459009</td>\n",
       "      <td>31.472324</td>\n",
       "    </tr>\n",
       "    <tr>\n",
       "      <th>4</th>\n",
       "      <td>TSLA201204C00280000</td>\n",
       "      <td>2020-11-16 3:25PM EST</td>\n",
       "      <td>280.0</td>\n",
       "      <td>175.65</td>\n",
       "      <td>169.20</td>\n",
       "      <td>173.85</td>\n",
       "      <td>46.55</td>\n",
       "      <td>+36.06%</td>\n",
       "      <td>1</td>\n",
       "      <td>17</td>\n",
       "      <td>155.75%</td>\n",
       "      <td>129.920454</td>\n",
       "      <td>35.198111</td>\n",
       "    </tr>\n",
       "    <tr>\n",
       "      <th>5</th>\n",
       "      <td>TSLA201204C00290000</td>\n",
       "      <td>2020-11-13 3:21PM EST</td>\n",
       "      <td>290.0</td>\n",
       "      <td>117.45</td>\n",
       "      <td>158.75</td>\n",
       "      <td>163.35</td>\n",
       "      <td>0.00</td>\n",
       "      <td>-</td>\n",
       "      <td>1</td>\n",
       "      <td>5</td>\n",
       "      <td>142.52%</td>\n",
       "      <td>120.559828</td>\n",
       "      <td>-2.579490</td>\n",
       "    </tr>\n",
       "    <tr>\n",
       "      <th>6</th>\n",
       "      <td>TSLA201204C00300000</td>\n",
       "      <td>2020-11-17 10:23AM EST</td>\n",
       "      <td>300.0</td>\n",
       "      <td>151.12</td>\n",
       "      <td>148.05</td>\n",
       "      <td>152.45</td>\n",
       "      <td>42.75</td>\n",
       "      <td>+39.45%</td>\n",
       "      <td>4</td>\n",
       "      <td>31</td>\n",
       "      <td>127.05%</td>\n",
       "      <td>111.418180</td>\n",
       "      <td>35.633161</td>\n",
       "    </tr>\n",
       "    <tr>\n",
       "      <th>...</th>\n",
       "      <td>...</td>\n",
       "      <td>...</td>\n",
       "      <td>...</td>\n",
       "      <td>...</td>\n",
       "      <td>...</td>\n",
       "      <td>...</td>\n",
       "      <td>...</td>\n",
       "      <td>...</td>\n",
       "      <td>...</td>\n",
       "      <td>...</td>\n",
       "      <td>...</td>\n",
       "      <td>...</td>\n",
       "      <td>...</td>\n",
       "    </tr>\n",
       "    <tr>\n",
       "      <th>73</th>\n",
       "      <td>TSLA201204C00720000</td>\n",
       "      <td>2020-11-17 10:17AM EST</td>\n",
       "      <td>720.0</td>\n",
       "      <td>1.04</td>\n",
       "      <td>0.97</td>\n",
       "      <td>1.08</td>\n",
       "      <td>0.94</td>\n",
       "      <td>+940.00%</td>\n",
       "      <td>48</td>\n",
       "      <td>16</td>\n",
       "      <td>105.74%</td>\n",
       "      <td>0.189718</td>\n",
       "      <td>448.182990</td>\n",
       "    </tr>\n",
       "    <tr>\n",
       "      <th>74</th>\n",
       "      <td>TSLA201204C00740000</td>\n",
       "      <td>2020-11-17 10:27AM EST</td>\n",
       "      <td>740.0</td>\n",
       "      <td>0.90</td>\n",
       "      <td>0.81</td>\n",
       "      <td>0.94</td>\n",
       "      <td>0.57</td>\n",
       "      <td>+172.73%</td>\n",
       "      <td>52</td>\n",
       "      <td>8</td>\n",
       "      <td>108.06%</td>\n",
       "      <td>0.128917</td>\n",
       "      <td>598.122916</td>\n",
       "    </tr>\n",
       "    <tr>\n",
       "      <th>75</th>\n",
       "      <td>TSLA201204C00760000</td>\n",
       "      <td>2020-11-17 10:24AM EST</td>\n",
       "      <td>760.0</td>\n",
       "      <td>0.80</td>\n",
       "      <td>0.71</td>\n",
       "      <td>0.80</td>\n",
       "      <td>0.74</td>\n",
       "      <td>+1,233.33%</td>\n",
       "      <td>99</td>\n",
       "      <td>15</td>\n",
       "      <td>110.35%</td>\n",
       "      <td>0.087378</td>\n",
       "      <td>815.565192</td>\n",
       "    </tr>\n",
       "    <tr>\n",
       "      <th>76</th>\n",
       "      <td>TSLA201204C00780000</td>\n",
       "      <td>2020-11-17 10:16AM EST</td>\n",
       "      <td>780.0</td>\n",
       "      <td>0.70</td>\n",
       "      <td>0.62</td>\n",
       "      <td>0.77</td>\n",
       "      <td>0.66</td>\n",
       "      <td>+1,650.00%</td>\n",
       "      <td>13</td>\n",
       "      <td>37</td>\n",
       "      <td>113.48%</td>\n",
       "      <td>0.059094</td>\n",
       "      <td>1084.561852</td>\n",
       "    </tr>\n",
       "    <tr>\n",
       "      <th>77</th>\n",
       "      <td>TSLA201204C00800000</td>\n",
       "      <td>2020-11-17 10:25AM EST</td>\n",
       "      <td>800.0</td>\n",
       "      <td>0.60</td>\n",
       "      <td>0.58</td>\n",
       "      <td>0.64</td>\n",
       "      <td>0.55</td>\n",
       "      <td>+1,100.00%</td>\n",
       "      <td>846</td>\n",
       "      <td>396</td>\n",
       "      <td>115.67%</td>\n",
       "      <td>0.039891</td>\n",
       "      <td>1404.091158</td>\n",
       "    </tr>\n",
       "  </tbody>\n",
       "</table>\n",
       "<p>75 rows × 13 columns</p>\n",
       "</div>"
      ],
      "text/plain": [
       "          Contract Name         Last Trade Date  Strike  Last Price     Bid  \\\n",
       "0   TSLA201204C00020000  2020-11-16 12:10AM EST    20.0      411.95  427.00   \n",
       "3   TSLA201204C00270000   2020-11-17 9:36AM EST   270.0      183.35  177.00   \n",
       "4   TSLA201204C00280000   2020-11-16 3:25PM EST   280.0      175.65  169.20   \n",
       "5   TSLA201204C00290000   2020-11-13 3:21PM EST   290.0      117.45  158.75   \n",
       "6   TSLA201204C00300000  2020-11-17 10:23AM EST   300.0      151.12  148.05   \n",
       "..                  ...                     ...     ...         ...     ...   \n",
       "73  TSLA201204C00720000  2020-11-17 10:17AM EST   720.0        1.04    0.97   \n",
       "74  TSLA201204C00740000  2020-11-17 10:27AM EST   740.0        0.90    0.81   \n",
       "75  TSLA201204C00760000  2020-11-17 10:24AM EST   760.0        0.80    0.71   \n",
       "76  TSLA201204C00780000  2020-11-17 10:16AM EST   780.0        0.70    0.62   \n",
       "77  TSLA201204C00800000  2020-11-17 10:25AM EST   800.0        0.60    0.58   \n",
       "\n",
       "       Ask  Change    % Change Volume Open Interest Implied Volatility  \\\n",
       "0   431.75    0.00           -      -             -            858.79%   \n",
       "3   182.15   44.30     +31.86%      3            11            147.12%   \n",
       "4   173.85   46.55     +36.06%      1            17            155.75%   \n",
       "5   163.35    0.00           -      1             5            142.52%   \n",
       "6   152.45   42.75     +39.45%      4            31            127.05%   \n",
       "..     ...     ...         ...    ...           ...                ...   \n",
       "73    1.08    0.94    +940.00%     48            16            105.74%   \n",
       "74    0.94    0.57    +172.73%     52             8            108.06%   \n",
       "75    0.80    0.74  +1,233.33%     99            15            110.35%   \n",
       "76    0.77    0.66  +1,650.00%     13            37            113.48%   \n",
       "77    0.64    0.55  +1,100.00%    846           396            115.67%   \n",
       "\n",
       "      estimate  estimate_error  \n",
       "0   388.508760        6.033645  \n",
       "3   139.459009       31.472324  \n",
       "4   129.920454       35.198111  \n",
       "5   120.559828       -2.579490  \n",
       "6   111.418180       35.633161  \n",
       "..         ...             ...  \n",
       "73    0.189718      448.182990  \n",
       "74    0.128917      598.122916  \n",
       "75    0.087378      815.565192  \n",
       "76    0.059094     1084.561852  \n",
       "77    0.039891     1404.091158  \n",
       "\n",
       "[75 rows x 13 columns]"
      ]
     },
     "execution_count": 11,
     "metadata": {},
     "output_type": "execute_result"
    }
   ],
   "source": [
    "# examine outliers\n",
    "\n",
    "df_estimate[df_estimate['estimate_error'].abs() > 1]\n",
    "\n",
    "# the model tends to undervalue puts especially at high strikes (deep out of the money)."
   ]
  },
  {
   "cell_type": "code",
   "execution_count": 26,
   "metadata": {},
   "outputs": [
    {
     "data": {
      "image/png": "[encoded data removed]",
      "text/plain": [
       "<Figure size 432x288 with 1 Axes>"
      ]
     },
     "metadata": {
      "needs_background": "light"
     },
     "output_type": "display_data"
    }
   ],
   "source": [
    "# df_estimate['Implied Volatility'] = df_estimate['Implied Volatility'].str.slice(stop=-1).astype('float') / 100\n",
    "\n",
    "df_estimate['Historical Vol'] = sigma\n",
    "ax = df_estimate.plot(x='Strike',y=['Implied Volatility','Historical Vol'],title='volatility across strikes')\n"
   ]
  },
  {
   "cell_type": "code",
   "execution_count": 23,
   "metadata": {},
   "outputs": [
    {
     "data": {
      "text/plain": [
       "<AxesSubplot:title={'center':'volume'}, xlabel='Strike'>"
      ]
     },
     "execution_count": 23,
     "metadata": {},
     "output_type": "execute_result"
    },
    {
     "data": {
      "image/png": "[encoded data removed]",
      "text/plain": [
       "<Figure size 432x288 with 1 Axes>"
      ]
     },
     "metadata": {
      "needs_background": "light"
     },
     "output_type": "display_data"
    }
   ],
   "source": [
    "df_estimate['Volume'] = df_estimate['Volume'].replace(to_replace='-',value=0)\n",
    "df_estimate['Volume'] = df_estimate['Volume'].astype('int')\n",
    "\n",
    "df_estimate['Open Interest'] = df_estimate['Open Interest'].replace(to_replace='-',value=0)\n",
    "df_estimate['Open Interest'] = df_estimate['Open Interest'].astype('int')\n",
    "\n",
    "df_estimate.plot(x='Strike',y=['Volume','Open Interest'],title='volume and open interest')"
   ]
  },
  {
   "cell_type": "code",
   "execution_count": 24,
   "metadata": {},
   "outputs": [
    {
     "data": {
      "text/plain": [
       "<AxesSubplot:title={'center':'estimate error across strikes'}, xlabel='Strike'>"
      ]
     },
     "execution_count": 24,
     "metadata": {},
     "output_type": "execute_result"
    },
    {
     "data": {
      "image/png": "[encoded data removed]",
      "text/plain": [
       "<Figure size 432x288 with 1 Axes>"
      ]
     },
     "metadata": {
      "needs_background": "light"
     },
     "output_type": "display_data"
    }
   ],
   "source": [
    "# plot the error across strikes\n",
    "\n",
    "df_estimate.plot(x='Strike',y='estimate_error',title='estimate error across strikes')\n"
   ]
  },
  {
   "cell_type": "code",
   "execution_count": 29,
   "metadata": {},
   "outputs": [
    {
     "name": "stdout",
     "output_type": "stream",
     "text": [
      "count    67.000000\n",
      "mean     23.845204\n",
      "std      18.777165\n",
      "min     -18.477548\n",
      "25%       8.201206\n",
      "50%      26.096129\n",
      "75%      36.938044\n",
      "max      56.762143\n",
      "Name: estimate_error, dtype: float64\n"
     ]
    },
    {
     "name": "stderr",
     "output_type": "stream",
     "text": [
      "/home/amao/miniconda3/envs/datasci/lib/python3.8/site-packages/seaborn/distributions.py:2551: FutureWarning: `distplot` is a deprecated function and will be removed in a future version. Please adapt your code to use either `displot` (a figure-level function with similar flexibility) or `histplot` (an axes-level function for histograms).\n",
      "  warnings.warn(msg, FutureWarning)\n"
     ]
    },
    {
     "data": {
      "text/plain": [
       "<AxesSubplot:title={'center':'Computed v Market prices for TSLA, Expiry 2020-12-04'}, xlabel='Strike'>"
      ]
     },
     "execution_count": 29,
     "metadata": {},
     "output_type": "execute_result"
    },
    {
     "data": {
      "image/png": "[encoded data removed]",
      "text/plain": [
       "<Figure size 432x288 with 1 Axes>"
      ]
     },
     "metadata": {
      "needs_background": "light"
     },
     "output_type": "display_data"
    },
    {
     "data": {
      "image/png": "[encoded data removed]",
      "text/plain": [
       "<Figure size 432x288 with 1 Axes>"
      ]
     },
     "metadata": {
      "needs_background": "light"
     },
     "output_type": "display_data"
    }
   ],
   "source": [
    "# filter deep ITM and OTM options\n",
    "\n",
    "lower_bound, upper_bound = cur_stock_price * .5, cur_stock_price * 1.5\n",
    "put_estimate_filtered = df_estimate[(df_estimate['Strike'] > lower_bound) & (df_estimate['Strike'] < upper_bound)]\n",
    "ax = sns.distplot(put_estimate_filtered['estimate_error'])\n",
    "print(put_estimate_filtered['estimate_error'].describe())\n",
    "\n",
    "df_estimate.plot(x='Strike',y=['Last Price','estimate'], title='Computed v Market prices for {}, Expiry {}'.format(ticker, expiration_datetime.date()))"
   ]
  },
  {
   "cell_type": "code",
   "execution_count": 14,
   "metadata": {},
   "outputs": [],
   "source": []
  }
 ],
 "metadata": {
  "kernelspec": {
   "display_name": "Python [conda env:datasci]",
   "language": "python",
   "name": "conda-env-datasci-py"
  },
  "language_info": {
   "codemirror_mode": {
    "name": "ipython",
    "version": 3
   },
   "file_extension": ".py",
   "mimetype": "text/x-python",
   "name": "python",
   "nbconvert_exporter": "python",
   "pygments_lexer": "ipython3",
   "version": "3.8.5"
  }
 },
 "nbformat": 4,
 "nbformat_minor": 4
}
